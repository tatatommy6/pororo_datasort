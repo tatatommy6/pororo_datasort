{
 "cells": [
  {
   "cell_type": "code",
   "execution_count": 2,
   "id": "c4ad83d9",
   "metadata": {},
   "outputs": [
    {
     "ename": "FileNotFoundError",
     "evalue": "[Errno 2] No such file or directory: 'data/1.wav'",
     "output_type": "error",
     "traceback": [
      "\u001b[31m---------------------------------------------------------------------------\u001b[39m",
      "\u001b[31mFileNotFoundError\u001b[39m                         Traceback (most recent call last)",
      "\u001b[36mCell\u001b[39m\u001b[36m \u001b[39m\u001b[32mIn[2]\u001b[39m\u001b[32m, line 8\u001b[39m\n\u001b[32m      6\u001b[39m \u001b[38;5;28;01mfor\u001b[39;00m i \u001b[38;5;129;01min\u001b[39;00m \u001b[38;5;28mrange\u001b[39m(\u001b[32m13\u001b[39m): \n\u001b[32m      7\u001b[39m     \u001b[38;5;28;01mwith\u001b[39;00m \u001b[38;5;28mopen\u001b[39m(\u001b[33mf\u001b[39m\u001b[33m\"\u001b[39m\u001b[33mDiarizationResultsJson/\u001b[39m\u001b[38;5;132;01m{\u001b[39;00mi+\u001b[32m1\u001b[39m\u001b[38;5;132;01m}\u001b[39;00m\u001b[33m.json\u001b[39m\u001b[33m\"\u001b[39m, \u001b[33m'\u001b[39m\u001b[33mr\u001b[39m\u001b[33m'\u001b[39m) \u001b[38;5;28;01mas\u001b[39;00m f:\n\u001b[32m----> \u001b[39m\u001b[32m8\u001b[39m         sound = \u001b[43mAudioSegment\u001b[49m\u001b[43m.\u001b[49m\u001b[43mfrom_file\u001b[49m\u001b[43m(\u001b[49m\u001b[33;43mf\u001b[39;49m\u001b[33;43m\"\u001b[39;49m\u001b[33;43mdata/\u001b[39;49m\u001b[38;5;132;43;01m{\u001b[39;49;00m\u001b[43mi\u001b[49m\u001b[43m+\u001b[49m\u001b[32;43m1\u001b[39;49m\u001b[38;5;132;43;01m}\u001b[39;49;00m\u001b[33;43m.wav\u001b[39;49m\u001b[33;43m\"\u001b[39;49m\u001b[43m)\u001b[49m\n\u001b[32m      9\u001b[39m         display(Audio(sound.raw_data, rate=sound.frame_rate))\n\u001b[32m     10\u001b[39m         data = json.load(f)\n",
      "\u001b[36mFile \u001b[39m\u001b[32mc:\\Users\\rrayy\\Desktop\\Pororo_clone\\pororo_datasort\\.conda\\Lib\\site-packages\\pydub\\audio_segment.py:651\u001b[39m, in \u001b[36mAudioSegment.from_file\u001b[39m\u001b[34m(cls, file, format, codec, parameters, start_second, duration, **kwargs)\u001b[39m\n\u001b[32m    649\u001b[39m \u001b[38;5;28;01mexcept\u001b[39;00m \u001b[38;5;167;01mTypeError\u001b[39;00m:\n\u001b[32m    650\u001b[39m     filename = \u001b[38;5;28;01mNone\u001b[39;00m\n\u001b[32m--> \u001b[39m\u001b[32m651\u001b[39m file, close_file = \u001b[43m_fd_or_path_or_tempfile\u001b[49m\u001b[43m(\u001b[49m\u001b[43mfile\u001b[49m\u001b[43m,\u001b[49m\u001b[43m \u001b[49m\u001b[33;43m'\u001b[39;49m\u001b[33;43mrb\u001b[39;49m\u001b[33;43m'\u001b[39;49m\u001b[43m,\u001b[49m\u001b[43m \u001b[49m\u001b[43mtempfile\u001b[49m\u001b[43m=\u001b[49m\u001b[38;5;28;43;01mFalse\u001b[39;49;00m\u001b[43m)\u001b[49m\n\u001b[32m    653\u001b[39m \u001b[38;5;28;01mif\u001b[39;00m \u001b[38;5;28mformat\u001b[39m:\n\u001b[32m    654\u001b[39m     \u001b[38;5;28mformat\u001b[39m = \u001b[38;5;28mformat\u001b[39m.lower()\n",
      "\u001b[36mFile \u001b[39m\u001b[32mc:\\Users\\rrayy\\Desktop\\Pororo_clone\\pororo_datasort\\.conda\\Lib\\site-packages\\pydub\\utils.py:60\u001b[39m, in \u001b[36m_fd_or_path_or_tempfile\u001b[39m\u001b[34m(fd, mode, tempfile)\u001b[39m\n\u001b[32m     57\u001b[39m     close_fd = \u001b[38;5;28;01mTrue\u001b[39;00m\n\u001b[32m     59\u001b[39m \u001b[38;5;28;01mif\u001b[39;00m \u001b[38;5;28misinstance\u001b[39m(fd, basestring):\n\u001b[32m---> \u001b[39m\u001b[32m60\u001b[39m     fd = \u001b[38;5;28;43mopen\u001b[39;49m\u001b[43m(\u001b[49m\u001b[43mfd\u001b[49m\u001b[43m,\u001b[49m\u001b[43m \u001b[49m\u001b[43mmode\u001b[49m\u001b[43m=\u001b[49m\u001b[43mmode\u001b[49m\u001b[43m)\u001b[49m\n\u001b[32m     61\u001b[39m     close_fd = \u001b[38;5;28;01mTrue\u001b[39;00m\n\u001b[32m     63\u001b[39m \u001b[38;5;28;01mtry\u001b[39;00m:\n",
      "\u001b[31mFileNotFoundError\u001b[39m: [Errno 2] No such file or directory: 'data/1.wav'"
     ]
    }
   ],
   "source": [
    "import json\n",
    "import os\n",
    "from pydub import AudioSegment\n",
    "from IPython.display import Audio, display\n",
    "\n",
    "for i in range(13): \n",
    "    with open(f\"DiarizationResultsJson/{i+1}.json\", 'r') as f:\n",
    "        sound = AudioSegment.from_file(f\"data/{i+1}.wav\")\n",
    "        display(Audio(sound.raw_data, rate=sound.frame_rate))\n",
    "        data = json.load(f)"
   ]
  }
 ],
 "metadata": {
  "kernelspec": {
   "display_name": "Python 3",
   "language": "python",
   "name": "python3"
  },
  "language_info": {
   "codemirror_mode": {
    "name": "ipython",
    "version": 3
   },
   "file_extension": ".py",
   "mimetype": "text/x-python",
   "name": "python",
   "nbconvert_exporter": "python",
   "pygments_lexer": "ipython3",
   "version": "3.11.11"
  }
 },
 "nbformat": 4,
 "nbformat_minor": 5
}
