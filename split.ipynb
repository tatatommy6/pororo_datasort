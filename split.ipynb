{
 "cells": [
  {
   "cell_type": "code",
   "execution_count": null,
   "id": "c4ad83d9",
   "metadata": {},
   "outputs": [],
   "source": [
    "import json\n",
    "import os\n",
    "# from pydub import idk\n",
    "\n",
    "for CurrentVoiceFile in os.listdir(\"DiarizationResultsJson\"): \n",
    "    with open(CurrentVoiceFile, 'r') as f:\n",
    "        data = json.load(f)"
   ]
  }
 ],
 "metadata": {
  "language_info": {
   "name": "python"
  }
 },
 "nbformat": 4,
 "nbformat_minor": 5
}
